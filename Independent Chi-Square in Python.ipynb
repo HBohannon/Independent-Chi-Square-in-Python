{
 "cells": [
  {
   "cell_type": "markdown",
   "id": "6cb720b9-ac5d-4298-9912-15f60a5c7335",
   "metadata": {},
   "source": [
    "Import Packages"
   ]
  },
  {
   "cell_type": "code",
   "execution_count": 1,
   "id": "e843418d-71a7-4b24-a7b0-bf8f4ec61f60",
   "metadata": {},
   "outputs": [],
   "source": [
    "import pandas as pd\n",
    "from scipy import stats"
   ]
  },
  {
   "cell_type": "markdown",
   "id": "a8d7051b-8d4d-46b2-acd3-e81be096c246",
   "metadata": {},
   "source": [
    "Import Data"
   ]
  },
  {
   "cell_type": "code",
   "execution_count": 2,
   "id": "98fa5835-0623-481a-b4f9-2024426c4a26",
   "metadata": {},
   "outputs": [
    {
     "data": {
      "text/html": [
       "<div>\n",
       "<style scoped>\n",
       "    .dataframe tbody tr th:only-of-type {\n",
       "        vertical-align: middle;\n",
       "    }\n",
       "\n",
       "    .dataframe tbody tr th {\n",
       "        vertical-align: top;\n",
       "    }\n",
       "\n",
       "    .dataframe thead th {\n",
       "        text-align: right;\n",
       "    }\n",
       "</style>\n",
       "<table border=\"1\" class=\"dataframe\">\n",
       "  <thead>\n",
       "    <tr style=\"text-align: right;\">\n",
       "      <th></th>\n",
       "      <th>JRC_code</th>\n",
       "      <th>purchCntry</th>\n",
       "      <th>prodCntry</th>\n",
       "      <th>Pb</th>\n",
       "      <th>sdPb</th>\n",
       "      <th>shade</th>\n",
       "      <th>prodType</th>\n",
       "      <th>priceCatgry</th>\n",
       "    </tr>\n",
       "  </thead>\n",
       "  <tbody>\n",
       "    <tr>\n",
       "      <th>0</th>\n",
       "      <td>C135</td>\n",
       "      <td>NL</td>\n",
       "      <td>NL</td>\n",
       "      <td>3.75</td>\n",
       "      <td>0.24</td>\n",
       "      <td>Red</td>\n",
       "      <td>LP</td>\n",
       "      <td>2</td>\n",
       "    </tr>\n",
       "    <tr>\n",
       "      <th>1</th>\n",
       "      <td>C18</td>\n",
       "      <td>FI</td>\n",
       "      <td>FI</td>\n",
       "      <td>2.29</td>\n",
       "      <td>0.07</td>\n",
       "      <td>Red</td>\n",
       "      <td>LP</td>\n",
       "      <td>2</td>\n",
       "    </tr>\n",
       "    <tr>\n",
       "      <th>2</th>\n",
       "      <td>C20</td>\n",
       "      <td>FI</td>\n",
       "      <td>IT</td>\n",
       "      <td>1.27</td>\n",
       "      <td>0.06</td>\n",
       "      <td>Red</td>\n",
       "      <td>LP</td>\n",
       "      <td>2</td>\n",
       "    </tr>\n",
       "    <tr>\n",
       "      <th>3</th>\n",
       "      <td>C164</td>\n",
       "      <td>DE</td>\n",
       "      <td>FR</td>\n",
       "      <td>1.21</td>\n",
       "      <td>0.06</td>\n",
       "      <td>Red</td>\n",
       "      <td>LP</td>\n",
       "      <td>2</td>\n",
       "    </tr>\n",
       "    <tr>\n",
       "      <th>4</th>\n",
       "      <td>C71</td>\n",
       "      <td>MT</td>\n",
       "      <td>UK</td>\n",
       "      <td>0.85</td>\n",
       "      <td>0.04</td>\n",
       "      <td>Red</td>\n",
       "      <td>LP</td>\n",
       "      <td>2</td>\n",
       "    </tr>\n",
       "  </tbody>\n",
       "</table>\n",
       "</div>"
      ],
      "text/plain": [
       "  JRC_code purchCntry prodCntry    Pb  sdPb shade prodType  priceCatgry\n",
       "0     C135         NL        NL  3.75  0.24   Red       LP            2\n",
       "1      C18         FI        FI  2.29  0.07   Red       LP            2\n",
       "2      C20         FI        IT  1.27  0.06   Red       LP            2\n",
       "3     C164         DE        FR  1.21  0.06   Red       LP            2\n",
       "4      C71         MT        UK  0.85  0.04   Red       LP            2"
      ]
     },
     "execution_count": 2,
     "metadata": {},
     "output_type": "execute_result"
    }
   ],
   "source": [
    "Lead_Lipstick = pd.read_csv(r'C:/Users/Hanna Bohannon/Documents/DSO105C/DSO105C Datasets/lead_lipstick.csv')\n",
    "Lead_Lipstick.head()"
   ]
  },
  {
   "cell_type": "markdown",
   "id": "0b2e6836-0d9c-48aa-afca-9a42f8ed8812",
   "metadata": {},
   "source": [
    "Create a Contingency Table"
   ]
  },
  {
   "cell_type": "code",
   "execution_count": 3,
   "id": "0a94c046-742c-4d5d-978f-67d54de9fa8d",
   "metadata": {},
   "outputs": [],
   "source": [
    "Lead_Lipstick_crosstab = pd.crosstab(Lead_Lipstick['shade'], Lead_Lipstick['priceCatgry'])"
   ]
  },
  {
   "cell_type": "markdown",
   "id": "1033b1a0-b304-4b02-81b7-797013179053",
   "metadata": {},
   "source": [
    "Running the Independent Chi-Square"
   ]
  },
  {
   "cell_type": "code",
   "execution_count": 4,
   "id": "861f20dc-34e7-4ec9-9bdf-96440d0e60fa",
   "metadata": {},
   "outputs": [
    {
     "data": {
      "text/plain": [
       "(7.860569553614045,\n",
       " 0.2484973879479863,\n",
       " 6,\n",
       " array([[14.26008969, 36.32286996,  9.41704036],\n",
       "        [19.25112108, 49.03587444, 12.71300448],\n",
       "        [ 8.79372197, 22.39910314,  5.80717489],\n",
       "        [10.69506726, 27.24215247,  7.06278027]]))"
      ]
     },
     "execution_count": 4,
     "metadata": {},
     "output_type": "execute_result"
    }
   ],
   "source": [
    "stats.chi2_contingency(Lead_Lipstick_crosstab)"
   ]
  }
 ],
 "metadata": {
  "kernelspec": {
   "display_name": "Python 3 (ipykernel)",
   "language": "python",
   "name": "python3"
  },
  "language_info": {
   "codemirror_mode": {
    "name": "ipython",
    "version": 3
   },
   "file_extension": ".py",
   "mimetype": "text/x-python",
   "name": "python",
   "nbconvert_exporter": "python",
   "pygments_lexer": "ipython3",
   "version": "3.10.4"
  }
 },
 "nbformat": 4,
 "nbformat_minor": 5
}
